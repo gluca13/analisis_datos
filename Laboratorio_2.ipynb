{
  "nbformat": 4,
  "nbformat_minor": 0,
  "metadata": {
    "colab": {
      "provenance": [],
      "authorship_tag": "ABX9TyPbyjM1hMvD/+B6l7DbEry5",
      "include_colab_link": true
    },
    "kernelspec": {
      "name": "python3",
      "display_name": "Python 3"
    },
    "language_info": {
      "name": "python"
    }
  },
  "cells": [
    {
      "cell_type": "markdown",
      "metadata": {
        "id": "view-in-github",
        "colab_type": "text"
      },
      "source": [
        "<a href=\"https://colab.research.google.com/github/gluca13/analisis_datos/blob/main/Laboratorio_2.ipynb\" target=\"_parent\"><img src=\"https://colab.research.google.com/assets/colab-badge.svg\" alt=\"Open In Colab\"/></a>"
      ]
    },
    {
      "cell_type": "code",
      "execution_count": null,
      "metadata": {
        "colab": {
          "base_uri": "https://localhost:8080/"
        },
        "id": "8EGnJORj3FmE",
        "outputId": "c632cc31-b076-4b58-da37-0a692da30ffe"
      },
      "outputs": [
        {
          "output_type": "stream",
          "name": "stdout",
          "text": [
            "--------------------------------------------------\n",
            "Ejemplo2: IMPRIMIR EL MENOR DE DOS NUMEROS\n",
            "--------------------------------------------------\n",
            "Ingrese 2 numeros: \n",
            "Primer numero: 5\n",
            "Segundo numero: 3\n",
            "SALIDA\n",
            "--------------------------------------------------\n",
            "El menor es:  3\n"
          ]
        }
      ],
      "source": [
        "print(\"--------------------------------------------------\")\n",
        "print(\"Ejemplo2: IMPRIMIR EL MENOR DE DOS NUMEROS\")\n",
        "print(\"--------------------------------------------------\")\n",
        "print(\"Ingrese 2 numeros: \")\n",
        "x = int(input(\"Primer numero: \"))\n",
        "y = int(input(\"Segundo numero: \"))\n",
        "print(\"SALIDA\\n--------------------------------------------------\")\n",
        "\n",
        "# print(\"El menor es: \", x>y and y or x)\n",
        "\n",
        "if x > y:\n",
        "   print(\"El menor es: \", y)\n",
        "else:\n",
        "  print(\"El menor es: \", x)\n"
      ]
    },
    {
      "cell_type": "code",
      "source": [
        "meses = {\n",
        "  1:\"Enero\",\n",
        "  2:\"Febrero\",\n",
        "  3:\"Marzo\",\n",
        "  4:\"Abril\",\n",
        "  5:\"Mayo\",\n",
        "  6:\"Junio\",\n",
        "  7:\"Julio\",\n",
        "  8:\"Agosto\",\n",
        "  9:\"Septiembre\",\n",
        "  10:\"Octubre\",\n",
        "  11:\"Noviembre\",\n",
        "  12:\"Diciembre\",\n",
        "}\n",
        "\n",
        "argumento = int(input(\"Ingrese un numero: \"))\n",
        "nombreMes = meses.get(argumento, \"Mes invalido\")\n",
        "print(nombreMes)\n"
      ],
      "metadata": {
        "colab": {
          "base_uri": "https://localhost:8080/"
        },
        "id": "Z6P5NAga6FuH",
        "outputId": "417e40ef-7985-4568-bdfc-ae87ff4a3052"
      },
      "execution_count": null,
      "outputs": [
        {
          "output_type": "stream",
          "name": "stdout",
          "text": [
            "Ingrese un numero: 15\n",
            "Mes invalido\n"
          ]
        }
      ]
    }
  ]
}