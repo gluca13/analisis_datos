{
  "nbformat": 4,
  "nbformat_minor": 0,
  "metadata": {
    "colab": {
      "provenance": [],
      "authorship_tag": "ABX9TyMin5r2RTEqmOAO0ycZi5vy",
      "include_colab_link": true
    },
    "kernelspec": {
      "name": "python3",
      "display_name": "Python 3"
    },
    "language_info": {
      "name": "python"
    }
  },
  "cells": [
    {
      "cell_type": "markdown",
      "metadata": {
        "id": "view-in-github",
        "colab_type": "text"
      },
      "source": [
        "<a href=\"https://colab.research.google.com/github/gluca13/analisis_datos/blob/main/Untitled0.ipynb\" target=\"_parent\"><img src=\"https://colab.research.google.com/assets/colab-badge.svg\" alt=\"Open In Colab\"/></a>"
      ]
    },
    {
      "cell_type": "code",
      "execution_count": null,
      "metadata": {
        "colab": {
          "base_uri": "https://localhost:8080/",
          "height": 790
        },
        "id": "ZTPIWNkdVdYm",
        "outputId": "7d655fbb-7de8-4040-cae6-929766ea17f3"
      },
      "outputs": [
        {
          "output_type": "error",
          "ename": "SyntaxError",
          "evalue": "ignored",
          "traceback": [
            "Traceback \u001b[0;36m(most recent call last)\u001b[0m:\n",
            "  File \u001b[1;32m\"/usr/local/lib/python3.9/dist-packages/IPython/core/interactiveshell.py\"\u001b[0m, line \u001b[1;32m3553\u001b[0m, in \u001b[1;35mrun_code\u001b[0m\n    exec(code_obj, self.user_global_ns, self.user_ns)\n",
            "  File \u001b[1;32m\"<ipython-input-37-fe157f4f1505>\"\u001b[0m, line \u001b[1;32m20\u001b[0m, in \u001b[1;35m<cell line: 20>\u001b[0m\n    print(df.query(f'{col}.str.!contains(\"{frase}\")'))\n",
            "  File \u001b[1;32m\"/usr/local/lib/python3.9/dist-packages/pandas/util/_decorators.py\"\u001b[0m, line \u001b[1;32m331\u001b[0m, in \u001b[1;35mwrapper\u001b[0m\n    return func(*args, **kwargs)\n",
            "  File \u001b[1;32m\"/usr/local/lib/python3.9/dist-packages/pandas/core/frame.py\"\u001b[0m, line \u001b[1;32m4474\u001b[0m, in \u001b[1;35mquery\u001b[0m\n    res = self.eval(expr, **kwargs)\n",
            "  File \u001b[1;32m\"/usr/local/lib/python3.9/dist-packages/pandas/util/_decorators.py\"\u001b[0m, line \u001b[1;32m331\u001b[0m, in \u001b[1;35mwrapper\u001b[0m\n    return func(*args, **kwargs)\n",
            "  File \u001b[1;32m\"/usr/local/lib/python3.9/dist-packages/pandas/core/frame.py\"\u001b[0m, line \u001b[1;32m4612\u001b[0m, in \u001b[1;35meval\u001b[0m\n    return _eval(expr, inplace=inplace, **kwargs)\n",
            "  File \u001b[1;32m\"/usr/local/lib/python3.9/dist-packages/pandas/core/computation/eval.py\"\u001b[0m, line \u001b[1;32m353\u001b[0m, in \u001b[1;35meval\u001b[0m\n    parsed_expr = Expr(expr, engine=engine, parser=parser, env=env)\n",
            "  File \u001b[1;32m\"/usr/local/lib/python3.9/dist-packages/pandas/core/computation/expr.py\"\u001b[0m, line \u001b[1;32m813\u001b[0m, in \u001b[1;35m__init__\u001b[0m\n    self.terms = self.parse()\n",
            "  File \u001b[1;32m\"/usr/local/lib/python3.9/dist-packages/pandas/core/computation/expr.py\"\u001b[0m, line \u001b[1;32m832\u001b[0m, in \u001b[1;35mparse\u001b[0m\n    return self._visitor.visit(self.expr)\n",
            "  File \u001b[1;32m\"/usr/local/lib/python3.9/dist-packages/pandas/core/computation/expr.py\"\u001b[0m, line \u001b[1;32m411\u001b[0m, in \u001b[1;35mvisit\u001b[0m\n    raise e\n",
            "  File \u001b[1;32m\"/usr/local/lib/python3.9/dist-packages/pandas/core/computation/expr.py\"\u001b[0m, line \u001b[1;32m407\u001b[0m, in \u001b[1;35mvisit\u001b[0m\n    node = ast.fix_missing_locations(ast.parse(clean))\n",
            "\u001b[0;36m  File \u001b[0;32m\"/usr/lib/python3.9/ast.py\"\u001b[0;36m, line \u001b[0;32m50\u001b[0;36m, in \u001b[0;35mparse\u001b[0;36m\u001b[0m\n\u001b[0;31m    return compile(source, filename, mode, flags,\u001b[0m\n",
            "\u001b[0;36m  File \u001b[0;32m\"<unknown>\"\u001b[0;36m, line \u001b[0;32m1\u001b[0m\n\u001b[0;31m    Ciudad .str .!contains (\"San Jose\")\u001b[0m\n\u001b[0m                 ^\u001b[0m\n\u001b[0;31mSyntaxError\u001b[0m\u001b[0;31m:\u001b[0m invalid syntax\n"
          ]
        }
      ],
      "source": [
        "import pandas as pd\n",
        "\n",
        "students = [('Ana', 23, 'San Jose', 'A'),\n",
        "            ('Esteban', 22, 'Heredia', 'B'),\n",
        "            ('Juan', 22, 'Cartago', 'A'),\n",
        "            ('Karla', 22, 'Limon', 'A'),\n",
        "            ('Ernesto', 21, 'Heredia', 'B')\n",
        "            ]\n",
        "df = pd.DataFrame(students, columns = ['Nombre', 'Edad', 'Ciudad', 'Seccion'])\n",
        "\n",
        "# print(df)\n",
        "\n",
        "def search(query):\n",
        "  return df.query(query)\n",
        "frase = 'San Jose'\n",
        "col = 'Ciudad'\n",
        "# print(search('Edad==22 and Ciudad==\"Heredia\"'))\n",
        "# print(df.query('Edad==22 and Ciudad==\"Heredia\"'))\n",
        "\n",
        "\n",
        "\n",
        "print(df.query(f'{col}.str.contains(\"{frase}\")'))\n",
        "\n",
        "#Se puede realizar una busqueda por localizacion, ya que hay una columan en los datos llamada localizacion que posee la direccion exacta del sismo"
      ]
    },
    {
      "cell_type": "code",
      "source": [],
      "metadata": {
        "id": "jr8t1Qc0cTsz"
      },
      "execution_count": null,
      "outputs": []
    },
    {
      "cell_type": "code",
      "source": [
        "print(\"Promedio de los elementos del vector\")\n",
        "suma = 0\n",
        "media = 0\n",
        "temp = []\n",
        "print(\"Ingrese cantidad de temperaturas\")\n",
        "n = int(input())\n",
        "\n",
        "for i in range(n):\n",
        "  temperatura =float(input(\"Ingrese la temperatura: \"))\n",
        "  temp.append(temperatura)\n",
        "  suma=suma+temp[i]\n",
        "media = suma/n\n",
        "print('Media:', media)\n",
        "\n"
      ],
      "metadata": {
        "colab": {
          "base_uri": "https://localhost:8080/"
        },
        "id": "6PJipH27YpJ3",
        "outputId": "ed41e900-9f7b-4521-a77a-c50fbe60012e"
      },
      "execution_count": null,
      "outputs": [
        {
          "output_type": "stream",
          "name": "stdout",
          "text": [
            "Promedio de los elementos del vector\n",
            "Ingrese cantidad de temperaturas\n",
            "3\n",
            "Ingrese la temperatura22\n",
            "Ingrese la temperatura23\n",
            "Ingrese la temperatura32\n",
            "Media: 25.666666666666668\n"
          ]
        }
      ]
    },
    {
      "cell_type": "code",
      "source": [
        "import pandas as pd\n",
        "\n",
        "mascotas = pd.DataFrame(\n",
        "    data={\n",
        "        'name': ['Minino', 'Milo','Snoopy', 'Blanco', 'LittlePony'],\n",
        "        'type' : ['gato', 'perro', 'perro', 'perro', 'caballo']\n",
        "    },\n",
        "    index=[71,42,11,98,42]\n",
        ")\n",
        "\n",
        "visitas = pd.DataFrame(\n",
        "    data={\n",
        "        'pet_id': [42,31,71,42,98,42],\n",
        "        'fecha': ['2022-09-23','2022-03-22','2022-01-03','2022-10-13','2022-09-21', '2023-02-28'],\n",
        "        'costo': [2000, 5000, 1000, 5000, 6000, 10000]\n",
        "    }\n",
        ")\n",
        "\n",
        "mascotas.index.rename('pet_id', inplace=True)\n",
        "visitas.index.rename('visit_id', inplace=True)\n",
        "\n",
        "\n",
        "print(mascotas.query('pet_id==71'))\n",
        "\n",
        "print('sum:', visitas['costo'].sum())\n",
        "print('min:', visitas['costo'].min())\n",
        "\n",
        "print(mascotas)\n",
        "print(visitas)\n",
        "\n",
        "print(visitas.sort_values(by='fecha',ascending=True))\n",
        "\n",
        "tienda=pd.merge(mascotas,visitas,how='cross')\n",
        "\n",
        "print(tienda)"
      ],
      "metadata": {
        "colab": {
          "base_uri": "https://localhost:8080/"
        },
        "id": "trBRCY0NcVQD",
        "outputId": "59238e17-24d6-4936-8ffa-0c40b8eaf3fb"
      },
      "execution_count": null,
      "outputs": [
        {
          "output_type": "stream",
          "name": "stdout",
          "text": [
            "          name  type\n",
            "pet_id              \n",
            "71      Minino  gato\n",
            "sum: 29000\n",
            "min: 1000\n",
            "              name     type\n",
            "pet_id                     \n",
            "71          Minino     gato\n",
            "42            Milo    perro\n",
            "11          Snoopy    perro\n",
            "98          Blanco    perro\n",
            "42      LittlePony  caballo\n",
            "          pet_id       fecha  costo\n",
            "visit_id                           \n",
            "0             42  2022-09-23   2000\n",
            "1             31  2022-03-22   5000\n",
            "2             71  2022-01-03   1000\n",
            "3             42  2022-10-13   5000\n",
            "4             98  2022-09-21   6000\n",
            "5             42  2023-02-28  10000\n",
            "          pet_id       fecha  costo\n",
            "visit_id                           \n",
            "2             71  2022-01-03   1000\n",
            "1             31  2022-03-22   5000\n",
            "4             98  2022-09-21   6000\n",
            "0             42  2022-09-23   2000\n",
            "3             42  2022-10-13   5000\n",
            "5             42  2023-02-28  10000\n",
            "          name     type  pet_id       fecha  costo\n",
            "0       Minino     gato      42  2022-09-23   2000\n",
            "1       Minino     gato      31  2022-03-22   5000\n",
            "2       Minino     gato      71  2022-01-03   1000\n",
            "3       Minino     gato      42  2022-10-13   5000\n",
            "4       Minino     gato      98  2022-09-21   6000\n",
            "5       Minino     gato      42  2023-02-28  10000\n",
            "6         Milo    perro      42  2022-09-23   2000\n",
            "7         Milo    perro      31  2022-03-22   5000\n",
            "8         Milo    perro      71  2022-01-03   1000\n",
            "9         Milo    perro      42  2022-10-13   5000\n",
            "10        Milo    perro      98  2022-09-21   6000\n",
            "11        Milo    perro      42  2023-02-28  10000\n",
            "12      Snoopy    perro      42  2022-09-23   2000\n",
            "13      Snoopy    perro      31  2022-03-22   5000\n",
            "14      Snoopy    perro      71  2022-01-03   1000\n",
            "15      Snoopy    perro      42  2022-10-13   5000\n",
            "16      Snoopy    perro      98  2022-09-21   6000\n",
            "17      Snoopy    perro      42  2023-02-28  10000\n",
            "18      Blanco    perro      42  2022-09-23   2000\n",
            "19      Blanco    perro      31  2022-03-22   5000\n",
            "20      Blanco    perro      71  2022-01-03   1000\n",
            "21      Blanco    perro      42  2022-10-13   5000\n",
            "22      Blanco    perro      98  2022-09-21   6000\n",
            "23      Blanco    perro      42  2023-02-28  10000\n",
            "24  LittlePony  caballo      42  2022-09-23   2000\n",
            "25  LittlePony  caballo      31  2022-03-22   5000\n",
            "26  LittlePony  caballo      71  2022-01-03   1000\n",
            "27  LittlePony  caballo      42  2022-10-13   5000\n",
            "28  LittlePony  caballo      98  2022-09-21   6000\n",
            "29  LittlePony  caballo      42  2023-02-28  10000\n"
          ]
        }
      ]
    }
  ]
}