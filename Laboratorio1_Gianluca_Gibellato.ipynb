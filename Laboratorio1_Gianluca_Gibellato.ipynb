{
  "nbformat": 4,
  "nbformat_minor": 0,
  "metadata": {
    "colab": {
      "provenance": [],
      "authorship_tag": "ABX9TyMsysrKjWyCuZgV/fRRyxzl",
      "include_colab_link": true
    },
    "kernelspec": {
      "name": "python3",
      "display_name": "Python 3"
    },
    "language_info": {
      "name": "python"
    }
  },
  "cells": [
    {
      "cell_type": "markdown",
      "metadata": {
        "id": "view-in-github",
        "colab_type": "text"
      },
      "source": [
        "<a href=\"https://colab.research.google.com/github/gluca13/analisis_datos/blob/main/Laboratorio1_Gianluca_Gibellato.ipynb\" target=\"_parent\"><img src=\"https://colab.research.google.com/assets/colab-badge.svg\" alt=\"Open In Colab\"/></a>"
      ]
    },
    {
      "cell_type": "code",
      "execution_count": null,
      "metadata": {
        "colab": {
          "base_uri": "https://localhost:8080/"
        },
        "id": "lBUoAstqHFL8",
        "outputId": "77bc314c-81de-4b1a-cac7-90af89fe4b14"
      },
      "outputs": [
        {
          "output_type": "stream",
          "name": "stdout",
          "text": [
            "Ejercicio #1 Calcular distancia\n",
            "Ingrese la velocidad y el tiempo de la unidad movil\n",
            "Ingrese la velocidad:5\n",
            "Ingrese el tiempo:4\n",
            "La distancia es:  20.0\n"
          ]
        }
      ],
      "source": [
        "print(\"Ejercicio #1 Calcular distancia\")\n",
        "print(\"Ingrese la velocidad y el tiempo de la unidad movil\")\n",
        "\n",
        "v = float(input(\"Ingrese la velocidad:\"))\n",
        "t = float(input(\"Ingrese el tiempo:\"))\n",
        "\n",
        "d = v*t\n",
        "\n",
        "print(\"La distancia es: \",d)\n"
      ]
    },
    {
      "cell_type": "code",
      "source": [
        "print(\"Ejercicio #2 Promedio\")\n",
        "nota1 = float(input(\"Ingrese la nota 1:\"))\n",
        "nota2 = float(input(\"Ingrese la nota 2:\"))\n",
        "nota3 = float(input(\"Ingrese la nota 3:\"))\n",
        "\n",
        "promedio = (nota1+nota2+nota3)/3\n",
        "\n",
        "print(\"El promedio de las notas es:\",promedio)"
      ],
      "metadata": {
        "colab": {
          "base_uri": "https://localhost:8080/"
        },
        "id": "qZyj_GGeI0jf",
        "outputId": "fb2da996-5a67-4c43-c68b-e022dfb5f484"
      },
      "execution_count": null,
      "outputs": [
        {
          "output_type": "stream",
          "name": "stdout",
          "text": [
            "Ejercicio #2 Promedio\n",
            "Ingrese la nota 1:90\n",
            "Ingrese la nota 2:95\n",
            "Ingrese la nota 3:70\n",
            "El promedio de las notas es: 85.0\n"
          ]
        }
      ]
    },
    {
      "cell_type": "code",
      "source": [
        "print(\"Ejercicio #3 Reto\")\n",
        "\n",
        "RC = int(input(\"Digite la cantidad de respuestas correctas: \"))\n",
        "RI = int(input(\"Digite la cantidad de respuestas incorrectas: \"))\n",
        "RB = int(input(\"Digite la cantidad de respuestas en blanco: \"))\n",
        "\n",
        "suma = RC + RI + RB\n",
        "\n",
        "PF = (RC*3 - RI)\n",
        "\n",
        "print(\"El puntaje final es de: \",PF)"
      ],
      "metadata": {
        "colab": {
          "base_uri": "https://localhost:8080/"
        },
        "id": "iv8FCNK9KwHw",
        "outputId": "e9949fee-ab16-4198-fb61-fda9e2c900c9"
      },
      "execution_count": null,
      "outputs": [
        {
          "output_type": "stream",
          "name": "stdout",
          "text": [
            "Ejercicio #3 Promedio ponderado\n",
            "Digite la cantidad de respuestas correctas: 10\n",
            "Digite la cantidad de respuestas incorrectas: 2\n",
            "Digite la cantidad de respuestas en blanco: 2\n",
            "El puntaje final es de:  28\n"
          ]
        }
      ]
    }
  ]
}