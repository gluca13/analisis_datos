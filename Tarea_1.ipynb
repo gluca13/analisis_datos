{
  "nbformat": 4,
  "nbformat_minor": 0,
  "metadata": {
    "colab": {
      "provenance": [],
      "authorship_tag": "ABX9TyMlIdxVOkPka9RMMvsPeKQJ",
      "include_colab_link": true
    },
    "kernelspec": {
      "name": "python3",
      "display_name": "Python 3"
    },
    "language_info": {
      "name": "python"
    }
  },
  "cells": [
    {
      "cell_type": "markdown",
      "metadata": {
        "id": "view-in-github",
        "colab_type": "text"
      },
      "source": [
        "<a href=\"https://colab.research.google.com/github/gluca13/analisis_datos/blob/main/Tarea_1.ipynb\" target=\"_parent\"><img src=\"https://colab.research.google.com/assets/colab-badge.svg\" alt=\"Open In Colab\"/></a>"
      ]
    },
    {
      "cell_type": "code",
      "execution_count": null,
      "metadata": {
        "id": "QKeD0jaGFg8Q",
        "colab": {
          "base_uri": "https://localhost:8080/"
        },
        "outputId": "75b85b92-13e9-4d39-ba2c-6c3e0764796c"
      },
      "outputs": [
        {
          "output_type": "stream",
          "name": "stdout",
          "text": [
            "Ejercicio Bisiesto\n",
            "Ingrese el año: 600\n",
            "El año no es Bisiesto\n"
          ]
        }
      ],
      "source": [
        "print(\"Ejercicio Bisiesto\")\n",
        "anio=int (input (\"Ingrese el año: \"))\n",
        "if (anio % 400 == 0)or (anio % 4 == 0) and (anio % 100 != 0):\n",
        "  print (\"El año es Bisiesto\")\n",
        "else:\n",
        "  print (\"El año no es Bisiesto\")"
      ]
    },
    {
      "cell_type": "code",
      "source": [
        "switcher = {\n",
        "  1:\"Enero\",\n",
        "  2:\"Febrero\",\n",
        "  3:\"Marzo\",\n",
        "  4:\"Abril\",\n",
        "  5:\"Mayo\",\n",
        "  6:\"Junio\",\n",
        "  7:\"Julio\",\n",
        "  8:\"Agosto\",\n",
        "  9:\"Septiembre\",\n",
        "  10:\"Octubre\",\n",
        "  11:\"Noviembre\",\n",
        "  12:\"Diciembre\",\n",
        "}\n",
        "\n",
        "argumento = int(input(\"Ingrese un numero: \"))\n",
        "nombreMes = switcher.get(argumento, \"Mes invalido\")\n",
        "print(nombreMes)"
      ],
      "metadata": {
        "colab": {
          "base_uri": "https://localhost:8080/"
        },
        "id": "GL7DDIvlX_6Z",
        "outputId": "9a04db97-7d70-4c11-dbe9-b2415e9092d7"
      },
      "execution_count": null,
      "outputs": [
        {
          "output_type": "stream",
          "name": "stdout",
          "text": [
            "Ingrese un numero: 5\n",
            "Mayo\n"
          ]
        }
      ]
    },
    {
      "cell_type": "code",
      "source": [
        "C=-1\n",
        "I=0\n",
        "M=0\n",
        "while(C<0) or (I<=0) or (I>=100) or (M<=0):\n",
        "  print(\"Introduce el capital, el interes, y el tiempo apropiados\")\n",
        "  C=int (input (\"Capital: \"))\n",
        "  I=int (input (\"Interes: \"))\n",
        "  M=int (input(\"Tiempo en Annios: \"))\n",
        "\n",
        "for i in range(M):\n",
        "  C=C*(1+I/100)\n",
        "  print(\"Monto\", C, \"colones\")"
      ],
      "metadata": {
        "colab": {
          "base_uri": "https://localhost:8080/"
        },
        "id": "NkYpoTLtYqko",
        "outputId": "dd5cd8ba-55aa-431e-d017-9b6ed711246e"
      },
      "execution_count": null,
      "outputs": [
        {
          "output_type": "stream",
          "name": "stdout",
          "text": [
            "Introduce el capital, el interes, y el tiempo apropiados\n",
            "Capital: 20000\n",
            "Interes: 15\n",
            "Tiempo en Annios: 10\n",
            "Monto 23000.0 colones\n",
            "Monto 26449.999999999996 colones\n",
            "Monto 30417.499999999993 colones\n",
            "Monto 34980.124999999985 colones\n",
            "Monto 40227.14374999998 colones\n",
            "Monto 46261.215312499975 colones\n",
            "Monto 53200.397609374966 colones\n",
            "Monto 61180.457250781204 colones\n",
            "Monto 70357.52583839837 colones\n",
            "Monto 80911.15471415812 colones\n"
          ]
        }
      ]
    },
    {
      "cell_type": "code",
      "source": [
        "print(\"Digite un numero\")\n",
        "numero=int (input (\"Numero: \"))\n",
        "suma=0\n",
        "for i in range (1, numero+1):\n",
        "  if (numero % i==0):\n",
        "    suma=suma + i\n",
        "print(suma)"
      ],
      "metadata": {
        "colab": {
          "base_uri": "https://localhost:8080/"
        },
        "id": "MsEPWa7HdWQB",
        "outputId": "814bb8ad-6ca3-488d-ed0d-1fef81eb3da9"
      },
      "execution_count": null,
      "outputs": [
        {
          "output_type": "stream",
          "name": "stdout",
          "text": [
            "Digite un numero\n",
            "Numero: 10\n",
            "18\n"
          ]
        }
      ]
    },
    {
      "cell_type": "code",
      "source": [
        "vector=[35,34,33,32,27,25,21]\n",
        "\n",
        "suma = 0\n",
        "for i in vector:\n",
        "  suma += I\n",
        "\n",
        "print(\"Media: \", suma/len(vector))"
      ],
      "metadata": {
        "colab": {
          "base_uri": "https://localhost:8080/"
        },
        "id": "ay3C-jg-fLwd",
        "outputId": "dc00d4a2-364a-4bad-bf8a-49ce491ad02d"
      },
      "execution_count": null,
      "outputs": [
        {
          "output_type": "stream",
          "name": "stdout",
          "text": [
            "Media:  15.0\n"
          ]
        }
      ]
    }
  ]
}